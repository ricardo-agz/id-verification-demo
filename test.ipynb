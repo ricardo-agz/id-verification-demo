{
 "cells": [
  {
   "cell_type": "code",
   "execution_count": 27,
   "metadata": {
    "collapsed": true
   },
   "outputs": [],
   "source": [
    "import os\n",
    "import base64\n",
    "from dotenv import load_dotenv\n",
    "from openai import OpenAI\n",
    "from pydantic import BaseModel, Field\n",
    "from enum import Enum\n",
    "\n",
    "load_dotenv()\n",
    "\n",
    "\n",
    "client = OpenAI(\n",
    "    base_url=\"https://api.fireworks.ai/inference/v1\",\n",
    "    api_key=os.getenv(\"FIREWORKS_API_KEY\")\n",
    ")\n",
    "\n",
    "\n",
    "def encode_image(image_path):\n",
    "  with open(image_path, \"rb\") as image_file:\n",
    "    return base64.b64encode(image_file.read()).decode('utf-8')"
   ]
  },
  {
   "cell_type": "code",
   "execution_count": 33,
   "outputs": [
    {
     "name": "stdout",
     "output_type": "stream",
     "text": [
      "ParsedChatCompletionMessage[NoneType](content='{\"image_description\": \"A red, white, blue, and yellow rectangle in the top-left corner contains the words \\'Pennsylvania\\' and \\'via visitPA.com USA\\' in a stylized font. Below this, a white rectangle features a headshot of a woman with long brown hair. The left side of the image contains various pieces of information, including her date of birth, expiration date, and name. On the right side, the birthplace and sex are listed.\",\"image_depicts_identification_document\": true,\"document_type\": \"drivers_license\"}', refusal=None, role='assistant', audio=None, function_call=None, tool_calls=[], parsed=None)\n"
     ]
    }
   ],
   "source": [
    "class DocumentType(Enum):\n",
    "    PASSPORT = \"passport\"\n",
    "    DRIVERS_LICENSE = \"drivers_license\"\n",
    "    OTHER_VALID_DOCUMENT = \"other_valid_document\"\n",
    "    INDECIPHERABLE = \"indecipherable\"\n",
    "\n",
    "\n",
    "class DocumentClassification(BaseModel):\n",
    "    image_description: str = Field(..., description=\"A 1 sentence description of the image.\")\n",
    "    image_depicts_identification_document: bool = Field(..., description=\"True if the image depicts an identification document, false otherwise.\")\n",
    "    document_type: DocumentType = Field(..., description=\"The type of document depicted in the image.\")\n",
    "\n",
    "\n",
    "def identify_document(image_path: str):\n",
    "    base64_image = encode_image(image_path)\n",
    "    completion = client.beta.chat.completions.parse(\n",
    "        model=\"accounts/fireworks/models/llama-v3p2-11b-vision-instruct\",\n",
    "        response_format={\"type\": \"json_object\", \"schema\": DocumentClassification.model_json_schema()},\n",
    "        messages=[\n",
    "            {\"role\": \"system\", \"content\": \"Carefully look at the provided image and determine if it depicts a valid identification document. If it does, please specify the type of document. If it does not, please specify 'indecipherable'.\"},\n",
    "            {\"role\": \"user\", \"content\": [\n",
    "                {\"type\": \"text\", \"text\": \"Classify the following image of a document.\"},\n",
    "                {\n",
    "                    \"type\": \"image_url\",\n",
    "                    \"image_url\": {\n",
    "                        \"url\":  f\"data:image/jpeg;base64,{base64_image}\"\n",
    "                    },\n",
    "                },\n",
    "            ],}\n",
    "        ]\n",
    "    )\n",
    "\n",
    "    return completion.choices[0].message\n",
    "\n",
    "\n",
    "print(identify_document(\"test_images/test-license.png\"))\n"
   ],
   "metadata": {
    "collapsed": false
   }
  },
  {
   "cell_type": "code",
   "execution_count": null,
   "outputs": [],
   "source": [],
   "metadata": {
    "collapsed": false
   }
  }
 ],
 "metadata": {
  "kernelspec": {
   "display_name": "Python 3",
   "language": "python",
   "name": "python3"
  },
  "language_info": {
   "codemirror_mode": {
    "name": "ipython",
    "version": 2
   },
   "file_extension": ".py",
   "mimetype": "text/x-python",
   "name": "python",
   "nbconvert_exporter": "python",
   "pygments_lexer": "ipython2",
   "version": "2.7.6"
  }
 },
 "nbformat": 4,
 "nbformat_minor": 0
}
